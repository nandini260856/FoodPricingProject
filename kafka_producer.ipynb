
import json
import requests
from kafka import KafkaProducer

producer = KafkaProducer(bootstrap_servers='localhost:9092',
                         value_serializer=lambda v: json.dumps(v).encode('utf-8'))

def fetch_food_data():
    # Example API (This should be replaced with actual API endpoints)
    api_urls = [
        'http://api.grocerystore.com/products?category=produce',
        'http://api.anotherstore.com/products?category=fresh+fruit'
    ]
    for url in api_urls:
        response = requests.get(url)
        data = response.json()
        for item in data['items']:
            producer.send('food_pricing_topic', item)
            print(f"Sent: {item}")

if __name__ == '__main__':
    fetch_food_data()
