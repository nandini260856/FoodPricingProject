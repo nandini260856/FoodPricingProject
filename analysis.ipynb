
# Connecting to Athena using PyAthena
from pyathena import connect
import pandas as pd

conn = connect(s3_staging_dir='s3://your-athena-results-bucket/',
               region_name='your-region')

query = """
SELECT * FROM food_pricing_data
WHERE price < 5.00
ORDER BY price DESC
LIMIT 10
"""

df = pd.read_sql(query, conn)
df
